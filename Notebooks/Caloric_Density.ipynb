{
  "nbformat": 4,
  "nbformat_minor": 0,
  "metadata": {
    "colab": {
      "name": "Caloric_Density.ipynb",
      "provenance": [],
      "collapsed_sections": [],
      "include_colab_link": true
    },
    "kernelspec": {
      "name": "python3",
      "display_name": "Python 3"
    }
  },
  "cells": [
    {
      "cell_type": "markdown",
      "metadata": {
        "id": "view-in-github",
        "colab_type": "text"
      },
      "source": [
        "<a href=\"https://colab.research.google.com/github/UPstartDeveloper/DS-1.1-Data-Analysis/blob/master/Notebooks/Caloric_Density.ipynb\" target=\"_parent\"><img src=\"https://colab.research.google.com/assets/colab-badge.svg\" alt=\"Open In Colab\"/></a>"
      ]
    },
    {
      "cell_type": "markdown",
      "metadata": {
        "id": "35-tYdXjJojh"
      },
      "source": [
        "Question from <a href=\"www.interviewqs.com\">Data Interview Qs</a> - sign up to receive a few DS questions/week via email."
      ]
    },
    {
      "cell_type": "markdown",
      "metadata": {
        "id": "BeO2dmERJ_3E"
      },
      "source": [
        "\n",
        "\n",
        "---\n",
        "\n"
      ]
    },
    {
      "cell_type": "markdown",
      "metadata": {
        "id": "Ukw5sfe0J7Pq"
      },
      "source": [
        "<p>Suppose you are given the following dataframe containing food, weight, and calories. You'll notice the foods have varying weights associated with them.</p>\n",
        "<p>Using Python (Pandas), can you sort the dataframe in descending order with the most calorically dense food (normalized for weight) at the top?<p>"
      ]
    },
    {
      "cell_type": "code",
      "metadata": {
        "id": "OT1cH0cQJ9jx",
        "colab": {
          "base_uri": "https://localhost:8080/",
          "height": 235
        },
        "outputId": "c9c0ec2e-8711-4cf2-cf68-612538b53aa2"
      },
      "source": [
        "#code to generate example dataframe\n",
        "import pandas as pd\n",
        "raw_data = {'food': ['bacon', 'strawberries', 'banana', 'spinach', 'chicken breast', 'peanuts'], \n",
        "            'grams': [50, 200, 100, 200, 50, 100],\n",
        "           'calories': [271, 64, 89, 46, 80, 567]}\n",
        "df = pd.DataFrame(raw_data, columns = ['food', 'grams', 'calories'])\n",
        "df"
      ],
      "execution_count": 1,
      "outputs": [
        {
          "output_type": "execute_result",
          "data": {
            "text/html": [
              "<div>\n",
              "<style scoped>\n",
              "    .dataframe tbody tr th:only-of-type {\n",
              "        vertical-align: middle;\n",
              "    }\n",
              "\n",
              "    .dataframe tbody tr th {\n",
              "        vertical-align: top;\n",
              "    }\n",
              "\n",
              "    .dataframe thead th {\n",
              "        text-align: right;\n",
              "    }\n",
              "</style>\n",
              "<table border=\"1\" class=\"dataframe\">\n",
              "  <thead>\n",
              "    <tr style=\"text-align: right;\">\n",
              "      <th></th>\n",
              "      <th>food</th>\n",
              "      <th>grams</th>\n",
              "      <th>calories</th>\n",
              "    </tr>\n",
              "  </thead>\n",
              "  <tbody>\n",
              "    <tr>\n",
              "      <th>0</th>\n",
              "      <td>bacon</td>\n",
              "      <td>50</td>\n",
              "      <td>271</td>\n",
              "    </tr>\n",
              "    <tr>\n",
              "      <th>1</th>\n",
              "      <td>strawberries</td>\n",
              "      <td>200</td>\n",
              "      <td>64</td>\n",
              "    </tr>\n",
              "    <tr>\n",
              "      <th>2</th>\n",
              "      <td>banana</td>\n",
              "      <td>100</td>\n",
              "      <td>89</td>\n",
              "    </tr>\n",
              "    <tr>\n",
              "      <th>3</th>\n",
              "      <td>spinach</td>\n",
              "      <td>200</td>\n",
              "      <td>46</td>\n",
              "    </tr>\n",
              "    <tr>\n",
              "      <th>4</th>\n",
              "      <td>chicken breast</td>\n",
              "      <td>50</td>\n",
              "      <td>80</td>\n",
              "    </tr>\n",
              "    <tr>\n",
              "      <th>5</th>\n",
              "      <td>peanuts</td>\n",
              "      <td>100</td>\n",
              "      <td>567</td>\n",
              "    </tr>\n",
              "  </tbody>\n",
              "</table>\n",
              "</div>"
            ],
            "text/plain": [
              "             food  grams  calories\n",
              "0           bacon     50       271\n",
              "1    strawberries    200        64\n",
              "2          banana    100        89\n",
              "3         spinach    200        46\n",
              "4  chicken breast     50        80\n",
              "5         peanuts    100       567"
            ]
          },
          "metadata": {
            "tags": []
          },
          "execution_count": 1
        }
      ]
    },
    {
      "cell_type": "markdown",
      "metadata": {
        "id": "E94ZWva3Lyeg"
      },
      "source": [
        "<p><a href=\"https://www.interviewqs.com/signup\">Upgrade to premium</a> to receive in-depth solutions to each problem.</p>"
      ]
    },
    {
      "cell_type": "markdown",
      "metadata": {
        "id": "mXOa3PT3GE1x"
      },
      "source": [
        "1. Restate the Problem \n",
        "- return a new `df` that lists the foods by caloric density, in desc order?\n",
        "\n",
        "2. Clarifications\n",
        "- caloric density = calories / grams?\n",
        "- should new df have a col for the caloric density? no\n",
        "- is the input df mutable? up to you \n",
        "- what if two more foods have the same caloric density - make the algorithm stable\n",
        "- ASSUME no missing values\n",
        "- ASSUME all unique foods\n",
        "- ASSUME the db is small enough to fit in memory\n",
        "\n",
        "3. Intution - \n",
        "- fairly straightforward - need to sort based on value that takes two params\n",
        "\n",
        "4. Edge Case:\n",
        "- empty df - return empty df\n",
        "- TODO: handle the cases in the ASSUME statements after initial solution\n",
        "\n",
        "5. Approach (brute force)\n",
        "- helper func = calc the cal_density\n",
        "- Pandas API: \n",
        "  - add a new column to the input df for the caloric density\n",
        "  - then sort by that col\n",
        "  - remove that column\n",
        "  - return modfied df \n"
      ]
    },
    {
      "cell_type": "markdown",
      "metadata": {
        "id": "Ex_Wu2BgKOr0"
      },
      "source": [
        "\n",
        "\n",
        "---\n",
        "\n"
      ]
    },
    {
      "cell_type": "code",
      "metadata": {
        "id": "8x2bb0s8IMCc"
      },
      "source": [
        "def caloric_density(calories, weight):\n",
        "  return calories / weight\n"
      ],
      "execution_count": 4,
      "outputs": []
    },
    {
      "cell_type": "code",
      "metadata": {
        "id": "LMnz_lK4IRvI"
      },
      "source": [
        "def sort_by_caloric_density(df):\n",
        "  # A: add a new column to the input df for the caloric density\n",
        "  caloric_densities = [\n",
        "    caloric_density(calories, grams) for calories, grams in\n",
        "    zip(df[\"calories\"], df[\"grams\"])\n",
        "  ]\n",
        "  df['caloric_density'] = pd.Series(caloric_densities)\n",
        "  # B: then sort by that col\n",
        "  df.sort_values(by=\"caloric_density\", ascending=False, \n",
        "                 inplace=True, kind='mergesort', ignore_index=False)\n",
        "  # C: remove that column\n",
        "  df.drop(columns=[\"caloric_density\"], inplace=True)\n",
        "  # C: return modfied df \n",
        "  return df"
      ],
      "execution_count": 40,
      "outputs": []
    },
    {
      "cell_type": "code",
      "metadata": {
        "colab": {
          "base_uri": "https://localhost:8080/",
          "height": 235
        },
        "id": "I1I_ZXZyKCX_",
        "outputId": "c3f901c7-1a28-435b-f28c-2f6a19658237"
      },
      "source": [
        "sort_by_caloric_density(df)"
      ],
      "execution_count": 41,
      "outputs": [
        {
          "output_type": "execute_result",
          "data": {
            "text/html": [
              "<div>\n",
              "<style scoped>\n",
              "    .dataframe tbody tr th:only-of-type {\n",
              "        vertical-align: middle;\n",
              "    }\n",
              "\n",
              "    .dataframe tbody tr th {\n",
              "        vertical-align: top;\n",
              "    }\n",
              "\n",
              "    .dataframe thead th {\n",
              "        text-align: right;\n",
              "    }\n",
              "</style>\n",
              "<table border=\"1\" class=\"dataframe\">\n",
              "  <thead>\n",
              "    <tr style=\"text-align: right;\">\n",
              "      <th></th>\n",
              "      <th>food</th>\n",
              "      <th>grams</th>\n",
              "      <th>calories</th>\n",
              "    </tr>\n",
              "  </thead>\n",
              "  <tbody>\n",
              "    <tr>\n",
              "      <th>5</th>\n",
              "      <td>peanuts</td>\n",
              "      <td>100</td>\n",
              "      <td>567</td>\n",
              "    </tr>\n",
              "    <tr>\n",
              "      <th>0</th>\n",
              "      <td>bacon</td>\n",
              "      <td>50</td>\n",
              "      <td>271</td>\n",
              "    </tr>\n",
              "    <tr>\n",
              "      <th>4</th>\n",
              "      <td>chicken breast</td>\n",
              "      <td>50</td>\n",
              "      <td>80</td>\n",
              "    </tr>\n",
              "    <tr>\n",
              "      <th>2</th>\n",
              "      <td>banana</td>\n",
              "      <td>100</td>\n",
              "      <td>89</td>\n",
              "    </tr>\n",
              "    <tr>\n",
              "      <th>1</th>\n",
              "      <td>strawberries</td>\n",
              "      <td>200</td>\n",
              "      <td>64</td>\n",
              "    </tr>\n",
              "    <tr>\n",
              "      <th>3</th>\n",
              "      <td>spinach</td>\n",
              "      <td>200</td>\n",
              "      <td>46</td>\n",
              "    </tr>\n",
              "  </tbody>\n",
              "</table>\n",
              "</div>"
            ],
            "text/plain": [
              "             food  grams  calories\n",
              "5         peanuts    100       567\n",
              "0           bacon     50       271\n",
              "4  chicken breast     50        80\n",
              "2          banana    100        89\n",
              "1    strawberries    200        64\n",
              "3         spinach    200        46"
            ]
          },
          "metadata": {
            "tags": []
          },
          "execution_count": 41
        }
      ]
    },
    {
      "cell_type": "code",
      "metadata": {
        "id": "rzjgK-BxKNZz"
      },
      "source": [
        ""
      ],
      "execution_count": 12,
      "outputs": []
    }
  ]
}