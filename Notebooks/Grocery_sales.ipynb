{
  "nbformat": 4,
  "nbformat_minor": 0,
  "metadata": {
    "colab": {
      "name": "Grocery_sales.ipynb",
      "provenance": [],
      "authorship_tag": "ABX9TyNdGtBS6+K0l3Te7gwnKxFA",
      "include_colab_link": true
    },
    "kernelspec": {
      "name": "python3",
      "display_name": "Python 3"
    },
    "language_info": {
      "name": "python"
    }
  },
  "cells": [
    {
      "cell_type": "markdown",
      "metadata": {
        "id": "view-in-github",
        "colab_type": "text"
      },
      "source": [
        "<a href=\"https://colab.research.google.com/github/UPstartDeveloper/DS-1.1-Data-Analysis/blob/master/Notebooks/Grocery_sales.ipynb\" target=\"_parent\"><img src=\"https://colab.research.google.com/assets/colab-badge.svg\" alt=\"Open In Colab\"/></a>"
      ]
    },
    {
      "cell_type": "markdown",
      "metadata": {
        "id": "s2gr49al6E69"
      },
      "source": [
        "# Total grocery sales\n",
        "*For sake of time, I will use pandas for this first, then come back and use SQL*\n",
        "\n",
        "You are given the below tables, showing Store, Product, and Sales information for a chain of grocery stores. The columns are labeled in such a way that you should be able to interpret what each field is showing.\n",
        "\n",
        "```\n",
        "Store\n",
        "\n",
        "store_id\tlocation\n",
        "91110\t   New York\n",
        "99525\t   Los Angeles\n",
        "37340\t   Tokyo\n",
        "32016\t   Detroit\n",
        "57507\t   London\n",
        "\n",
        "\n",
        "Product\n",
        "\n",
        "product_id\tproduct_name\tprice_usd\n",
        "31331\t      Apples\t        2\n",
        "34611\t      Lettuce\t       3\n",
        "49760\t      Chicken           5\n",
        "26583\t      Lemons\t        1\n",
        "20267\t      Bread\t         2\n",
        "\n",
        "Sales\n",
        "\n",
        "sale_id\tproduct_id\tstore_id\tdate\n",
        "1\t       31331\t     91110\t02/20/2020\n",
        "1\t       31331\t     91110\t02/20/2020\n",
        "2\t       34611\t     57507\t02/20/2020\n",
        "3\t       26583\t     37340\t02/20/2020\n",
        "3\t       34611\t     32016\t02/20/2020\n",
        "3\t       20267\t     99525\t02/21/2020\n",
        "4\t       31331\t     99525\t02/21/2020\n",
        "5\t       49760\t     99525\t02/21/2020\n",
        "6\t       34611\t     57507\t02/21/2020\n",
        "7\t       31331\t     91110\t02/21/2020\n",
        "\n",
        "```\n",
        "\n",
        "Using the tables above, write a SQL query to return total sales (in dollars) by store location by product. If total sales are null for a given store location / product combination, set them to 0.\n",
        "\n",
        "Your output should return the following columns:\n",
        "\n",
        "```\n",
        "store_id\tproduct_id\ttotal_sales\n",
        "X\tY\tZ\n",
        "A\tB\tC\n",
        "```"
      ]
    },
    {
      "cell_type": "markdown",
      "metadata": {
        "id": "v684PKNP7HN2"
      },
      "source": [
        "## 1: Pandas Solution"
      ]
    },
    {
      "cell_type": "code",
      "metadata": {
        "colab": {
          "base_uri": "https://localhost:8080/"
        },
        "id": "ncXJGtDYDV4A",
        "outputId": "a70cfed0-4171-4c10-dab8-9e72526c78a4"
      },
      "source": [
        "!pip install pandas==1.2.0  # allows us to do cross-joins using pd.DataFrame.merge"
      ],
      "execution_count": 74,
      "outputs": [
        {
          "output_type": "stream",
          "text": [
            "Requirement already satisfied: pandas==1.2.0 in /usr/local/lib/python3.7/dist-packages (1.2.0)\n",
            "Requirement already satisfied: python-dateutil>=2.7.3 in /usr/local/lib/python3.7/dist-packages (from pandas==1.2.0) (2.8.1)\n",
            "Requirement already satisfied: pytz>=2017.3 in /usr/local/lib/python3.7/dist-packages (from pandas==1.2.0) (2018.9)\n",
            "Requirement already satisfied: numpy>=1.16.5 in /usr/local/lib/python3.7/dist-packages (from pandas==1.2.0) (1.19.5)\n",
            "Requirement already satisfied: six>=1.5 in /usr/local/lib/python3.7/dist-packages (from python-dateutil>=2.7.3->pandas==1.2.0) (1.15.0)\n"
          ],
          "name": "stdout"
        }
      ]
    },
    {
      "cell_type": "code",
      "metadata": {
        "colab": {
          "base_uri": "https://localhost:8080/"
        },
        "id": "4J_exmya__BI",
        "outputId": "b34544cb-f2aa-4827-b546-1366e70c3564"
      },
      "source": [
        "import numpy as np\n",
        "import pandas as pd\n",
        "\n",
        "print(pd.__version__)  # if < 1.2.0, plz implement a custom cross-join method"
      ],
      "execution_count": 1,
      "outputs": [
        {
          "output_type": "stream",
          "text": [
            "1.2.0\n"
          ],
          "name": "stdout"
        }
      ]
    },
    {
      "cell_type": "code",
      "metadata": {
        "colab": {
          "base_uri": "https://localhost:8080/",
          "height": 204
        },
        "id": "BmYH0D0nABLr",
        "outputId": "72923deb-b112-4de7-af03-0c3a55be9065"
      },
      "source": [
        "# make example data\n",
        "\n",
        "stores = pd.DataFrame(\n",
        "    {\n",
        "        \"store_id\": [91110   , 99525, 37340, 32016, 57507  ],\n",
        "        \"location\": [\"New York\", \"Los Angeles\", \"Tokyo\", \"Detroit\", \"London\"]\n",
        "    }\n",
        ")    \n",
        "stores.head() "
      ],
      "execution_count": 2,
      "outputs": [
        {
          "output_type": "execute_result",
          "data": {
            "text/html": [
              "<div>\n",
              "<style scoped>\n",
              "    .dataframe tbody tr th:only-of-type {\n",
              "        vertical-align: middle;\n",
              "    }\n",
              "\n",
              "    .dataframe tbody tr th {\n",
              "        vertical-align: top;\n",
              "    }\n",
              "\n",
              "    .dataframe thead th {\n",
              "        text-align: right;\n",
              "    }\n",
              "</style>\n",
              "<table border=\"1\" class=\"dataframe\">\n",
              "  <thead>\n",
              "    <tr style=\"text-align: right;\">\n",
              "      <th></th>\n",
              "      <th>store_id</th>\n",
              "      <th>location</th>\n",
              "    </tr>\n",
              "  </thead>\n",
              "  <tbody>\n",
              "    <tr>\n",
              "      <th>0</th>\n",
              "      <td>91110</td>\n",
              "      <td>New York</td>\n",
              "    </tr>\n",
              "    <tr>\n",
              "      <th>1</th>\n",
              "      <td>99525</td>\n",
              "      <td>Los Angeles</td>\n",
              "    </tr>\n",
              "    <tr>\n",
              "      <th>2</th>\n",
              "      <td>37340</td>\n",
              "      <td>Tokyo</td>\n",
              "    </tr>\n",
              "    <tr>\n",
              "      <th>3</th>\n",
              "      <td>32016</td>\n",
              "      <td>Detroit</td>\n",
              "    </tr>\n",
              "    <tr>\n",
              "      <th>4</th>\n",
              "      <td>57507</td>\n",
              "      <td>London</td>\n",
              "    </tr>\n",
              "  </tbody>\n",
              "</table>\n",
              "</div>"
            ],
            "text/plain": [
              "   store_id     location\n",
              "0     91110     New York\n",
              "1     99525  Los Angeles\n",
              "2     37340        Tokyo\n",
              "3     32016      Detroit\n",
              "4     57507       London"
            ]
          },
          "metadata": {
            "tags": []
          },
          "execution_count": 2
        }
      ]
    },
    {
      "cell_type": "code",
      "metadata": {
        "colab": {
          "base_uri": "https://localhost:8080/",
          "height": 204
        },
        "id": "epc_D78FAm9N",
        "outputId": "ec3d4ba0-95d1-4cf8-f605-6a346cd4a335"
      },
      "source": [
        "products = pd.DataFrame(\n",
        "    {\n",
        "        \"product_id\": [31331, 34611, 49760, 26583, 20267 ],\n",
        "        \"product_name\": [\"Apples\", \"Lettuce\", \"Chicken\", \"Lemons\", \"Bread\"],\n",
        "        \"price_usd\": [2, 3, 5, 1, 2]\n",
        "    }\n",
        ")\n",
        "\n",
        "products.head()"
      ],
      "execution_count": 3,
      "outputs": [
        {
          "output_type": "execute_result",
          "data": {
            "text/html": [
              "<div>\n",
              "<style scoped>\n",
              "    .dataframe tbody tr th:only-of-type {\n",
              "        vertical-align: middle;\n",
              "    }\n",
              "\n",
              "    .dataframe tbody tr th {\n",
              "        vertical-align: top;\n",
              "    }\n",
              "\n",
              "    .dataframe thead th {\n",
              "        text-align: right;\n",
              "    }\n",
              "</style>\n",
              "<table border=\"1\" class=\"dataframe\">\n",
              "  <thead>\n",
              "    <tr style=\"text-align: right;\">\n",
              "      <th></th>\n",
              "      <th>product_id</th>\n",
              "      <th>product_name</th>\n",
              "      <th>price_usd</th>\n",
              "    </tr>\n",
              "  </thead>\n",
              "  <tbody>\n",
              "    <tr>\n",
              "      <th>0</th>\n",
              "      <td>31331</td>\n",
              "      <td>Apples</td>\n",
              "      <td>2</td>\n",
              "    </tr>\n",
              "    <tr>\n",
              "      <th>1</th>\n",
              "      <td>34611</td>\n",
              "      <td>Lettuce</td>\n",
              "      <td>3</td>\n",
              "    </tr>\n",
              "    <tr>\n",
              "      <th>2</th>\n",
              "      <td>49760</td>\n",
              "      <td>Chicken</td>\n",
              "      <td>5</td>\n",
              "    </tr>\n",
              "    <tr>\n",
              "      <th>3</th>\n",
              "      <td>26583</td>\n",
              "      <td>Lemons</td>\n",
              "      <td>1</td>\n",
              "    </tr>\n",
              "    <tr>\n",
              "      <th>4</th>\n",
              "      <td>20267</td>\n",
              "      <td>Bread</td>\n",
              "      <td>2</td>\n",
              "    </tr>\n",
              "  </tbody>\n",
              "</table>\n",
              "</div>"
            ],
            "text/plain": [
              "   product_id product_name  price_usd\n",
              "0       31331       Apples          2\n",
              "1       34611      Lettuce          3\n",
              "2       49760      Chicken          5\n",
              "3       26583       Lemons          1\n",
              "4       20267        Bread          2"
            ]
          },
          "metadata": {
            "tags": []
          },
          "execution_count": 3
        }
      ]
    },
    {
      "cell_type": "code",
      "metadata": {
        "colab": {
          "base_uri": "https://localhost:8080/",
          "height": 204
        },
        "id": "5HOR1-WtBeIX",
        "outputId": "76ca8a51-745d-4812-e0e8-d5a98f0b121d"
      },
      "source": [
        "# for sake of time, I will not be converting the dates to actual dt values, and it shouldn't make too much of a difference in the solution\n",
        "data_values = [\n",
        "(1,           31331,         91110,    2/20/2020),\n",
        "(1 ,          31331 ,        91110 ,   2/20/2020),\n",
        "(2  ,         34611  ,       57507  ,  2/20/2020),\n",
        "(3   ,        26583   ,      37340   , 2/20/2020),\n",
        "(3    ,       34611    ,     32016    ,2/20/2020),\n",
        "(3     ,      20267     ,    99525    ,2/21/2020),\n",
        "(4      ,     31331      ,   99525    ,2/21/2020),\n",
        "(5       ,    49760       ,  99525    ,2/21/2020),\n",
        "(6        ,   34611        , 57507    ,2/21/2020),\n",
        "(7         ,  31331         ,91110    ,2/21/2020),\n",
        "]\n",
        "sales = pd.DataFrame(data=np.array(data_values),\n",
        "                     columns=[\"sale_id\",    \"product_id\", \"store_id\",  \"date\"])\n",
        "\n",
        "sales.head()\n"
      ],
      "execution_count": 4,
      "outputs": [
        {
          "output_type": "execute_result",
          "data": {
            "text/html": [
              "<div>\n",
              "<style scoped>\n",
              "    .dataframe tbody tr th:only-of-type {\n",
              "        vertical-align: middle;\n",
              "    }\n",
              "\n",
              "    .dataframe tbody tr th {\n",
              "        vertical-align: top;\n",
              "    }\n",
              "\n",
              "    .dataframe thead th {\n",
              "        text-align: right;\n",
              "    }\n",
              "</style>\n",
              "<table border=\"1\" class=\"dataframe\">\n",
              "  <thead>\n",
              "    <tr style=\"text-align: right;\">\n",
              "      <th></th>\n",
              "      <th>sale_id</th>\n",
              "      <th>product_id</th>\n",
              "      <th>store_id</th>\n",
              "      <th>date</th>\n",
              "    </tr>\n",
              "  </thead>\n",
              "  <tbody>\n",
              "    <tr>\n",
              "      <th>0</th>\n",
              "      <td>1.0</td>\n",
              "      <td>31331.0</td>\n",
              "      <td>91110.0</td>\n",
              "      <td>0.00005</td>\n",
              "    </tr>\n",
              "    <tr>\n",
              "      <th>1</th>\n",
              "      <td>1.0</td>\n",
              "      <td>31331.0</td>\n",
              "      <td>91110.0</td>\n",
              "      <td>0.00005</td>\n",
              "    </tr>\n",
              "    <tr>\n",
              "      <th>2</th>\n",
              "      <td>2.0</td>\n",
              "      <td>34611.0</td>\n",
              "      <td>57507.0</td>\n",
              "      <td>0.00005</td>\n",
              "    </tr>\n",
              "    <tr>\n",
              "      <th>3</th>\n",
              "      <td>3.0</td>\n",
              "      <td>26583.0</td>\n",
              "      <td>37340.0</td>\n",
              "      <td>0.00005</td>\n",
              "    </tr>\n",
              "    <tr>\n",
              "      <th>4</th>\n",
              "      <td>3.0</td>\n",
              "      <td>34611.0</td>\n",
              "      <td>32016.0</td>\n",
              "      <td>0.00005</td>\n",
              "    </tr>\n",
              "  </tbody>\n",
              "</table>\n",
              "</div>"
            ],
            "text/plain": [
              "   sale_id  product_id  store_id     date\n",
              "0      1.0     31331.0   91110.0  0.00005\n",
              "1      1.0     31331.0   91110.0  0.00005\n",
              "2      2.0     34611.0   57507.0  0.00005\n",
              "3      3.0     26583.0   37340.0  0.00005\n",
              "4      3.0     34611.0   32016.0  0.00005"
            ]
          },
          "metadata": {
            "tags": []
          },
          "execution_count": 4
        }
      ]
    },
    {
      "cell_type": "code",
      "metadata": {
        "id": "XpmuumWJ6Aqs"
      },
      "source": [
        "def total_grocery_sales(stores, products, sales):\n",
        "  \"\"\"\n",
        "  Shows the total sale amount for each store, for each product.\n",
        "\n",
        "  Args:\n",
        "  stores(pd.DataFrame): lists the unique store locations and their ids\n",
        "  products(pd.DataFrame): lists the unique grocery items sold across the chain,\n",
        "                          as well as their prices\n",
        "  sales(pd.DataFrame): records each and every sale at every location \n",
        "                       (sorted by date), showing the product and location.\n",
        "                       Quantity of the sale is shown by rows having duplicate \n",
        "                       sale_id's (int).\n",
        "\n",
        "  Returns: pd.DataFrame\n",
        "\n",
        "  \"\"\"\n",
        "  # A: Cross join the stores by each product\n",
        "  total_sales = stores.merge(products, how=\"cross\")\n",
        "  # cannot select rows while cross joining, so select them here\n",
        "  total_sales = total_sales[[\"store_id\", \"product_id\"]]\n",
        "  # B: Count the appearances of each unique store-product combo in the sales df\n",
        "  sales = sales[[\"product_id\", \"store_id\"]]\n",
        "  store_product_counts = sales.value_counts()\n",
        "  # C: init the total sales column to be 0 for all rows at first\n",
        "  num_rows = total_sales.shape[0]\n",
        "  total_sales[\"total_sales\"] = pd.Series([0 for _ in range(num_rows)])\n",
        "  # calculate the total sale amt = count x product unit price, for each combo\n",
        "  for row_index, combination in enumerate(store_product_counts.index):\n",
        "    # get values for the unique product and store IDs\n",
        "    product_id, store_id = combination\n",
        "    product_id, store_id = int(product_id), int(store_id)\n",
        "    # find the total sale amount\n",
        "    count = store_product_counts.iloc[row_index]\n",
        "    unit_price = (\n",
        "        products[products[\"product_id\"] == product_id][\"price_usd\"].values[0]\n",
        "    )\n",
        "    total_sale_amt = unit_price * count\n",
        "    # place it in the output df\n",
        "    total_sales.loc[\n",
        "      # this query first finds the row based on the product and store cols,\n",
        "      (total_sales[\"product_id\"] == product_id) & \n",
        "      (total_sales[\"store_id\"] == store_id),\n",
        "      # then it chooses the col of this row in which to set to new value \n",
        "      \"total_sales\"] = total_sale_amt\n",
        "  # D: return the new df\n",
        "  return total_sales\n",
        "\n",
        "\n"
      ],
      "execution_count": 72,
      "outputs": []
    },
    {
      "cell_type": "code",
      "metadata": {
        "colab": {
          "base_uri": "https://localhost:8080/",
          "height": 824
        },
        "id": "kMvKhOJW7jla",
        "outputId": "35dc7e7f-8112-4215-dacd-c8465455353b"
      },
      "source": [
        "total_grocery_sales(stores, products, sales)"
      ],
      "execution_count": 73,
      "outputs": [
        {
          "output_type": "execute_result",
          "data": {
            "text/html": [
              "<div>\n",
              "<style scoped>\n",
              "    .dataframe tbody tr th:only-of-type {\n",
              "        vertical-align: middle;\n",
              "    }\n",
              "\n",
              "    .dataframe tbody tr th {\n",
              "        vertical-align: top;\n",
              "    }\n",
              "\n",
              "    .dataframe thead th {\n",
              "        text-align: right;\n",
              "    }\n",
              "</style>\n",
              "<table border=\"1\" class=\"dataframe\">\n",
              "  <thead>\n",
              "    <tr style=\"text-align: right;\">\n",
              "      <th></th>\n",
              "      <th>store_id</th>\n",
              "      <th>product_id</th>\n",
              "      <th>total_sales</th>\n",
              "    </tr>\n",
              "  </thead>\n",
              "  <tbody>\n",
              "    <tr>\n",
              "      <th>0</th>\n",
              "      <td>91110</td>\n",
              "      <td>31331</td>\n",
              "      <td>6</td>\n",
              "    </tr>\n",
              "    <tr>\n",
              "      <th>1</th>\n",
              "      <td>91110</td>\n",
              "      <td>34611</td>\n",
              "      <td>0</td>\n",
              "    </tr>\n",
              "    <tr>\n",
              "      <th>2</th>\n",
              "      <td>91110</td>\n",
              "      <td>49760</td>\n",
              "      <td>0</td>\n",
              "    </tr>\n",
              "    <tr>\n",
              "      <th>3</th>\n",
              "      <td>91110</td>\n",
              "      <td>26583</td>\n",
              "      <td>0</td>\n",
              "    </tr>\n",
              "    <tr>\n",
              "      <th>4</th>\n",
              "      <td>91110</td>\n",
              "      <td>20267</td>\n",
              "      <td>0</td>\n",
              "    </tr>\n",
              "    <tr>\n",
              "      <th>5</th>\n",
              "      <td>99525</td>\n",
              "      <td>31331</td>\n",
              "      <td>2</td>\n",
              "    </tr>\n",
              "    <tr>\n",
              "      <th>6</th>\n",
              "      <td>99525</td>\n",
              "      <td>34611</td>\n",
              "      <td>0</td>\n",
              "    </tr>\n",
              "    <tr>\n",
              "      <th>7</th>\n",
              "      <td>99525</td>\n",
              "      <td>49760</td>\n",
              "      <td>5</td>\n",
              "    </tr>\n",
              "    <tr>\n",
              "      <th>8</th>\n",
              "      <td>99525</td>\n",
              "      <td>26583</td>\n",
              "      <td>0</td>\n",
              "    </tr>\n",
              "    <tr>\n",
              "      <th>9</th>\n",
              "      <td>99525</td>\n",
              "      <td>20267</td>\n",
              "      <td>2</td>\n",
              "    </tr>\n",
              "    <tr>\n",
              "      <th>10</th>\n",
              "      <td>37340</td>\n",
              "      <td>31331</td>\n",
              "      <td>0</td>\n",
              "    </tr>\n",
              "    <tr>\n",
              "      <th>11</th>\n",
              "      <td>37340</td>\n",
              "      <td>34611</td>\n",
              "      <td>0</td>\n",
              "    </tr>\n",
              "    <tr>\n",
              "      <th>12</th>\n",
              "      <td>37340</td>\n",
              "      <td>49760</td>\n",
              "      <td>0</td>\n",
              "    </tr>\n",
              "    <tr>\n",
              "      <th>13</th>\n",
              "      <td>37340</td>\n",
              "      <td>26583</td>\n",
              "      <td>1</td>\n",
              "    </tr>\n",
              "    <tr>\n",
              "      <th>14</th>\n",
              "      <td>37340</td>\n",
              "      <td>20267</td>\n",
              "      <td>0</td>\n",
              "    </tr>\n",
              "    <tr>\n",
              "      <th>15</th>\n",
              "      <td>32016</td>\n",
              "      <td>31331</td>\n",
              "      <td>0</td>\n",
              "    </tr>\n",
              "    <tr>\n",
              "      <th>16</th>\n",
              "      <td>32016</td>\n",
              "      <td>34611</td>\n",
              "      <td>3</td>\n",
              "    </tr>\n",
              "    <tr>\n",
              "      <th>17</th>\n",
              "      <td>32016</td>\n",
              "      <td>49760</td>\n",
              "      <td>0</td>\n",
              "    </tr>\n",
              "    <tr>\n",
              "      <th>18</th>\n",
              "      <td>32016</td>\n",
              "      <td>26583</td>\n",
              "      <td>0</td>\n",
              "    </tr>\n",
              "    <tr>\n",
              "      <th>19</th>\n",
              "      <td>32016</td>\n",
              "      <td>20267</td>\n",
              "      <td>0</td>\n",
              "    </tr>\n",
              "    <tr>\n",
              "      <th>20</th>\n",
              "      <td>57507</td>\n",
              "      <td>31331</td>\n",
              "      <td>0</td>\n",
              "    </tr>\n",
              "    <tr>\n",
              "      <th>21</th>\n",
              "      <td>57507</td>\n",
              "      <td>34611</td>\n",
              "      <td>6</td>\n",
              "    </tr>\n",
              "    <tr>\n",
              "      <th>22</th>\n",
              "      <td>57507</td>\n",
              "      <td>49760</td>\n",
              "      <td>0</td>\n",
              "    </tr>\n",
              "    <tr>\n",
              "      <th>23</th>\n",
              "      <td>57507</td>\n",
              "      <td>26583</td>\n",
              "      <td>0</td>\n",
              "    </tr>\n",
              "    <tr>\n",
              "      <th>24</th>\n",
              "      <td>57507</td>\n",
              "      <td>20267</td>\n",
              "      <td>0</td>\n",
              "    </tr>\n",
              "  </tbody>\n",
              "</table>\n",
              "</div>"
            ],
            "text/plain": [
              "    store_id  product_id  total_sales\n",
              "0      91110       31331            6\n",
              "1      91110       34611            0\n",
              "2      91110       49760            0\n",
              "3      91110       26583            0\n",
              "4      91110       20267            0\n",
              "5      99525       31331            2\n",
              "6      99525       34611            0\n",
              "7      99525       49760            5\n",
              "8      99525       26583            0\n",
              "9      99525       20267            2\n",
              "10     37340       31331            0\n",
              "11     37340       34611            0\n",
              "12     37340       49760            0\n",
              "13     37340       26583            1\n",
              "14     37340       20267            0\n",
              "15     32016       31331            0\n",
              "16     32016       34611            3\n",
              "17     32016       49760            0\n",
              "18     32016       26583            0\n",
              "19     32016       20267            0\n",
              "20     57507       31331            0\n",
              "21     57507       34611            6\n",
              "22     57507       49760            0\n",
              "23     57507       26583            0\n",
              "24     57507       20267            0"
            ]
          },
          "metadata": {
            "tags": []
          },
          "execution_count": 73
        }
      ]
    },
    {
      "cell_type": "markdown",
      "metadata": {
        "id": "1mwutCrm7LOJ"
      },
      "source": [
        "## 2. SQL Solution\n",
        "TBD"
      ]
    },
    {
      "cell_type": "code",
      "metadata": {
        "id": "hOosSTjE7Kdi"
      },
      "source": [
        ""
      ],
      "execution_count": null,
      "outputs": []
    }
  ]
}