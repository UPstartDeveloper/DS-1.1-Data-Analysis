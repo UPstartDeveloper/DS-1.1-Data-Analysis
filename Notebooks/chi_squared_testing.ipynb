{
  "nbformat": 4,
  "nbformat_minor": 0,
  "metadata": {
    "colab": {
      "name": "chi_squared_testing.ipynb",
      "provenance": [],
      "collapsed_sections": [],
      "authorship_tag": "ABX9TyPEn7KCzdhLYJOLeR9pTs0i",
      "include_colab_link": true
    },
    "kernelspec": {
      "name": "python3",
      "display_name": "Python 3"
    },
    "language_info": {
      "name": "python"
    }
  },
  "cells": [
    {
      "cell_type": "markdown",
      "metadata": {
        "id": "view-in-github",
        "colab_type": "text"
      },
      "source": [
        "<a href=\"https://colab.research.google.com/github/UPstartDeveloper/DS-1.1-Data-Analysis/blob/master/Notebooks/chi_squared_testing.ipynb\" target=\"_parent\"><img src=\"https://colab.research.google.com/assets/colab-badge.svg\" alt=\"Open In Colab\"/></a>"
      ]
    },
    {
      "cell_type": "markdown",
      "metadata": {
        "id": "G3Lgju0laEpK"
      },
      "source": [
        "\"Suppose Candy Company XYZ produces lollipops. The company claims that 30% of the lollipops are cherry, 60% are grape, and 10% are lime.\n",
        "\n",
        "Given a random sampling of 100 lollipops with 50 cherry, 45 grape, and 5 lime, determine whether or not this is consistent with the company's claim. Use a 0.05 level of significance.\" -- *Chi square testing candy distribution,* from [Data Interview Q's](https://www.interviewqs.com/)\n",
        "\n",
        "**HINT**: this question is another example of disproving the null hypothesis!"
      ]
    },
    {
      "cell_type": "code",
      "metadata": {
        "id": "JSZuJF8IZ-7X"
      },
      "source": [
        "from scipy import stats\n",
        "import numpy as np"
      ],
      "execution_count": 1,
      "outputs": []
    },
    {
      "cell_type": "markdown",
      "metadata": {
        "id": "edS3ROGobvJq"
      },
      "source": [
        "*Null Hypothesis*: \"The company's claims about the distribution of the flavors of its lollipops is not consistent with the random sample given a 5% level of significance.\"\n",
        "\n",
        "Let's try to prove this statement is `False`!"
      ]
    },
    {
      "cell_type": "code",
      "metadata": {
        "colab": {
          "base_uri": "https://localhost:8080/"
        },
        "id": "fe65a_fcaLv0",
        "outputId": "ce338a00-7236-4c7f-97a5-e33cc3bc136b"
      },
      "source": [
        "# A: define significance, and alpha (1 - level of significance)\n",
        "significance = 0.05\n",
        "# TBH: I have no idea what to actually call the following variable\n",
        "significance_threshold = 1 - significance \n",
        "# B: assume the null hypothesis is False\n",
        "null_is_true = False\n",
        "# C: make a list of the observed and claimed percentages - for each flavor of lollipop (categorical variable)\n",
        "claims = np.array([30, 60, 10]) # cherry, grape, then lime\n",
        "sampled = np.array([50, 45, 5])\n",
        "# D: conduct a one way chi-squared test - delta degrees of freedom (ddof) is 1 less than the number of categories\n",
        "chisq, p_value = stats.chisquare(sampled, f_exp=claims, ddof=3)\n",
        "# E: see if we can truly reject the null hypothesis - false when p > alpha\n",
        "null_is_true = (p_value > significance_threshold) # alpha=significance_threshold\n",
        "print(f\"The company's claims are inconsistent: {null_is_true}.\")"
      ],
      "execution_count": 15,
      "outputs": [
        {
          "output_type": "stream",
          "text": [
            "The company's claims are inconsistent: False.\n"
          ],
          "name": "stdout"
        }
      ]
    }
  ]
}