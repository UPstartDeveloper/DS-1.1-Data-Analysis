{
  "nbformat": 4,
  "nbformat_minor": 0,
  "metadata": {
    "colab": {
      "name": "Replace_Negatives.ipynb",
      "provenance": [],
      "authorship_tag": "ABX9TyNDr2Lnr88NXACtgkAKNyoc",
      "include_colab_link": true
    },
    "kernelspec": {
      "name": "python3",
      "display_name": "Python 3"
    },
    "language_info": {
      "name": "python"
    }
  },
  "cells": [
    {
      "cell_type": "markdown",
      "metadata": {
        "id": "view-in-github",
        "colab_type": "text"
      },
      "source": [
        "<a href=\"https://colab.research.google.com/github/UPstartDeveloper/DS-1.1-Data-Analysis/blob/master/Notebooks/Replace_Negatives.ipynb\" target=\"_parent\"><img src=\"https://colab.research.google.com/assets/colab-badge.svg\" alt=\"Open In Colab\"/></a>"
      ]
    },
    {
      "cell_type": "markdown",
      "metadata": {
        "id": "dbRg1GafrPOs"
      },
      "source": [
        "# Replacing bad data with Pandas\n",
        "## Data Analysis, Python Pandas, and Data Cleaning\n",
        "\n",
        "*Originally from Data Interview Q's*\n",
        "\n",
        "Suppose you are given a dataframe, `df`, that contains various negative values. In the context of your work, negative values can be considered 'bad data'. \n",
        "\n",
        "Write a function in Python (using Pandas) that replaces these bad values with the group mean.\n",
        "\n",
        "----------------------------------\n",
        "1. Clarifications:\n",
        "- EXAMPLE DF:\n",
        "\n",
        "```\n",
        "df = pd.DataFrame({\n",
        "  \"person\": [1/11, 1/12, 1/13, 1/14],\n",
        "  \"ageHumanYears\": [67,   45,   32,   11]\n",
        "  \"ageTurtleYears\": [34,   11,   -55,   11]\n",
        "})\n",
        "```\n",
        "\n",
        "2. Doesn't make sense contextually, but following questions:\n",
        "- group mean - ASSUME it means the mean of col values?\n",
        "\n",
        "3. ASSUME we only clean the negative values\n",
        "\n",
        "4. ASSUME it's done out of place, return the new `df`\n",
        "\n",
        "5. Other questions:\n",
        "  - what are the data types of the numerical values - and can we assume they'll use Numpy data types or anything like that?\n",
        "  \n",
        "\n",
        "-----------------------------------\n",
        "Brainstorming:\n",
        "\n",
        "Intuition: use Pandas `replace` and `apply` functions\n",
        "Approach: \n",
        "  - im\n",
        "\n",
        "Edge Cases: \n",
        "- nan values\n",
        "  - basically avoid filling it in somehow\n",
        "  - but presumably, we do count it in calculating the group mean\n",
        "  - what if the group mean is negative? \n",
        "    - \n",
        "  - what if the column is all negatvies?\n",
        "    - \n",
        "\n",
        "- no rows at all - all good, return empty df"
      ]
    },
    {
      "cell_type": "code",
      "metadata": {
        "id": "XMZqLHQurjk8"
      },
      "source": [
        "import numpy as np\n",
        "import pandas as pd\n",
        "from typing import List\n",
        "\n",
        "def replace_negatives(df: pd.DataFrame, columns=None) -> pd.DataFrame:\n",
        "  def calculate_mean(df, col_name):\n",
        "    # get all positives\n",
        "    positives = pd.Series(df[df[col_name] >= 0].values.any())\n",
        "    # if no positives, return zero\n",
        "    if positives.shape[-1] == 0:\n",
        "      return 0\n",
        "    # if the sum of all values in the col is negative, just sum the positives\n",
        "    numerator = df[col_name].sum()\n",
        "    if numerator < 0:\n",
        "      numerator = positives.sum() \n",
        "    # return the mean\n",
        "    return numerator / df[col_name].shape[-1]\n",
        "  # if columns is not given, iterate over all the columns:\n",
        "  if columns is None:\n",
        "    columns = df.columns\n",
        "  new_df = df.copy()\n",
        "  for col_name in columns:\n",
        "    # - find the mean of the column, if not full of nans\n",
        "    mean = calculate_mean(df, col_name)\n",
        "    # - replace the negative values\n",
        "    new_df[col_name] = df[col_name].apply(lambda x: mean if x < 0 else x)\n",
        "  # - return the df\n",
        "  return new_df"
      ],
      "execution_count": 51,
      "outputs": []
    },
    {
      "cell_type": "code",
      "metadata": {
        "id": "k5fdqykx5oqh"
      },
      "source": [
        "df = pd.DataFrame({\n",
        "  \"person\": [1/11, 1/12, 1/13, 1/14],\n",
        "  \"ageHumanYears\": [67,   45,   32,   11],\n",
        "  \"ageTurtleYears\": [34,   11,   -55,   11]\n",
        "})"
      ],
      "execution_count": 52,
      "outputs": []
    },
    {
      "cell_type": "code",
      "metadata": {
        "colab": {
          "base_uri": "https://localhost:8080/",
          "height": 173
        },
        "id": "yx5O2Ire5tgz",
        "outputId": "d3da8948-62d4-482d-9234-0333210c33db"
      },
      "source": [
        "replace_negatives(df)"
      ],
      "execution_count": 53,
      "outputs": [
        {
          "output_type": "execute_result",
          "data": {
            "text/html": [
              "<div>\n",
              "<style scoped>\n",
              "    .dataframe tbody tr th:only-of-type {\n",
              "        vertical-align: middle;\n",
              "    }\n",
              "\n",
              "    .dataframe tbody tr th {\n",
              "        vertical-align: top;\n",
              "    }\n",
              "\n",
              "    .dataframe thead th {\n",
              "        text-align: right;\n",
              "    }\n",
              "</style>\n",
              "<table border=\"1\" class=\"dataframe\">\n",
              "  <thead>\n",
              "    <tr style=\"text-align: right;\">\n",
              "      <th></th>\n",
              "      <th>person</th>\n",
              "      <th>ageHumanYears</th>\n",
              "      <th>ageTurtleYears</th>\n",
              "    </tr>\n",
              "  </thead>\n",
              "  <tbody>\n",
              "    <tr>\n",
              "      <th>0</th>\n",
              "      <td>0.090909</td>\n",
              "      <td>67</td>\n",
              "      <td>34.00</td>\n",
              "    </tr>\n",
              "    <tr>\n",
              "      <th>1</th>\n",
              "      <td>0.083333</td>\n",
              "      <td>45</td>\n",
              "      <td>11.00</td>\n",
              "    </tr>\n",
              "    <tr>\n",
              "      <th>2</th>\n",
              "      <td>0.076923</td>\n",
              "      <td>32</td>\n",
              "      <td>0.25</td>\n",
              "    </tr>\n",
              "    <tr>\n",
              "      <th>3</th>\n",
              "      <td>0.071429</td>\n",
              "      <td>11</td>\n",
              "      <td>11.00</td>\n",
              "    </tr>\n",
              "  </tbody>\n",
              "</table>\n",
              "</div>"
            ],
            "text/plain": [
              "     person  ageHumanYears  ageTurtleYears\n",
              "0  0.090909             67           34.00\n",
              "1  0.083333             45           11.00\n",
              "2  0.076923             32            0.25\n",
              "3  0.071429             11           11.00"
            ]
          },
          "metadata": {
            "tags": []
          },
          "execution_count": 53
        }
      ]
    },
    {
      "cell_type": "code",
      "metadata": {
        "colab": {
          "base_uri": "https://localhost:8080/"
        },
        "id": "W0bO-DWC6HDY",
        "outputId": "82f521e7-3487-467e-f303-45768c31a026"
      },
      "source": [
        "np.nan < 0  # as we can see, we DO NOT need to explicty check data types before comparing a NumPy NaN to an int in Python"
      ],
      "execution_count": 27,
      "outputs": [
        {
          "output_type": "execute_result",
          "data": {
            "text/plain": [
              "False"
            ]
          },
          "metadata": {
            "tags": []
          },
          "execution_count": 27
        }
      ]
    },
    {
      "cell_type": "code",
      "metadata": {
        "id": "Tjy4ggoz87Zx"
      },
      "source": [
        ""
      ],
      "execution_count": null,
      "outputs": []
    }
  ]
}