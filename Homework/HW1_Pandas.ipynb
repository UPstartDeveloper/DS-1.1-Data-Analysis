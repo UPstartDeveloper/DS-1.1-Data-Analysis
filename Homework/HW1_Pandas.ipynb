{
 "cells": [
  {
   "cell_type": "markdown",
   "metadata": {},
   "source": [
    "\n",
    "## Q1: Write Custom Function to Compute Histogram for a Numerical Array\n",
    "\n",
    "- You can use numpy\n",
    "\n",
    "- Your function takes two arguments: 1- list 2- interval\n",
    "\n",
    "- Your function would return a dictionary with intervals as keys and how many of elements in list are in the intervals as values"
   ]
  },
  {
   "cell_type": "code",
   "execution_count": 1,
   "metadata": {},
   "outputs": [],
   "source": [
    "import pandas as pd\n",
    "import numpy as np\n",
    "\n",
    "df = pd.read_csv('../Notebooks/Datasets/titanic.csv')"
   ]
  },
  {
   "cell_type": "code",
   "execution_count": 51,
   "metadata": {},
   "outputs": [
    {
     "name": "stdout",
     "output_type": "stream",
     "text": [
      "{0.0: 44, 5.0: 24, 10.0: 21, 15.0: 101, 20.0: 137, 25.0: 131, 30.0: 113, 35.0: 85, 40.0: 60, 45.0: 51, 50.0: 34, 55.0: 20, 60.0: 18, 65.0: 6, 70.0: 6, 75.0: 1}\n",
      "\n",
      "{0.0: 44, 5.0: 24, 10.0: 21, 15.0: 101, 20.0: 137, 25.0: 131, 30.0: 113, 35.0: 85, 40.0: 60, 45.0: 51, 50.0: 34, 55.0: 20, 60.0: 18, 65.0: 6, 70.0: 6, 75.0: 1}\n"
     ]
    }
   ],
   "source": [
    "# histogram function\n",
    "\n",
    "def custom_hist(ls, intervals):\n",
    "    # define a dict to return\n",
    "    ages_dict = dict()\n",
    "    # find the min value\n",
    "    minimum = int(np.min(ls))\n",
    "    # find the max value\n",
    "    maximum = int(np.max(ls))\n",
    "    # compute the size of an interval\n",
    "    I = ((maximum - minimum) / intervals)\n",
    "    # iterate through and find the number of people in each interval\n",
    "    for j in range(intervals):\n",
    "        upper, lower = (minimum + (j+1) *I), (minimum + j*I)\n",
    "        # find the number of people in this interval\n",
    "        subset_in_interval = np.sum((ls >= lower) & (ls <= upper))\n",
    "        # key for each entry is the lower bound, value is the number of people in the interval\n",
    "        ages_dict[lower] = subset_in_interval\n",
    "    return ages_dict\n",
    "print(custom_hist(df['Age'].dropna().values, 16))"
   ]
  },
  {
   "cell_type": "markdown",
   "metadata": {},
   "source": [
    "## For visualization part, you should elaborate on the following "
   ]
  },
  {
   "cell_type": "code",
   "execution_count": 42,
   "metadata": {},
   "outputs": [
    {
     "data": {
      "text/plain": [
       "<BarContainer object of 16 artists>"
      ]
     },
     "execution_count": 42,
     "metadata": {},
     "output_type": "execute_result"
    },
    {
     "data": {
      "image/png": "[encoded data removed]",
      "text/plain": [
       "<Figure size 432x288 with 1 Axes>"
      ]
     },
     "metadata": {
      "needs_background": "light"
     },
     "output_type": "display_data"
    }
   ],
   "source": [
    "import matplotlib.pyplot as plt\n",
    "\n",
    "hist_dict = custom_hist(df['Age'].dropna().values, 16)\n",
    "plt.bar(list(hist_dict.keys()), list(hist_dict.values()))"
   ]
  },
  {
   "cell_type": "markdown",
   "metadata": {},
   "source": [
    "## Q2: How we can plot histogram of Age for female and male with legend?  "
   ]
  },
  {
   "cell_type": "markdown",
   "metadata": {},
   "source": [
    "Use Pandas with .groupby method and plot the following "
   ]
  },
  {
   "cell_type": "code",
   "execution_count": null,
   "metadata": {},
   "outputs": [],
   "source": []
  },
  {
   "cell_type": "code",
   "execution_count": null,
   "metadata": {},
   "outputs": [],
   "source": []
  }
 ],
 "metadata": {
  "kernelspec": {
   "display_name": "Python 3",
   "language": "python",
   "name": "python3"
  },
  "language_info": {
   "codemirror_mode": {
    "name": "ipython",
    "version": 3
   },
   "file_extension": ".py",
   "mimetype": "text/x-python",
   "name": "python",
   "nbconvert_exporter": "python",
   "pygments_lexer": "ipython3",
   "version": "3.7.6"
  }
 },
 "nbformat": 4,
 "nbformat_minor": 2
}
